{
 "cells": [
  {
   "cell_type": "markdown",
   "id": "7e7a1ab8-2599-417d-9a65-25ef07f3a786",
   "metadata": {
    "id": "7e7a1ab8-2599-417d-9a65-25ef07f3a786"
   },
   "source": [
    "# Lab | Web Scraping"
   ]
  },
  {
   "cell_type": "markdown",
   "id": "ce8882fc-4815-4567-92fa-b4816358ba7d",
   "metadata": {
    "id": "ce8882fc-4815-4567-92fa-b4816358ba7d"
   },
   "source": [
    "Welcome to the IMDb Web Scraping Adventure Lab!\n",
    "\n",
    "**Objective**\n",
    "\n",
    "In this lab, we will embark on a mission to unearth valuable insights from the vast sea of data available on IMDb, one of the largest online databases of movie, TV, and celebrity information. As budding data scientists and business analysts, you have been tasked to scrape a specific subset of data from IMDb to assist film production companies in understanding the landscape of highly-rated movies in a defined time period. Your insights will potentially influence the making of the next netflix movie!\n",
    "\n",
    "**Background**\n",
    "\n",
    "In a world where data has become the new currency, businesses are leveraging big data to make informed decisions that drive success and profitability. The entertainment industry, being no exception, utilizes data analytics to comprehend market trends, audience preferences, and the performance of films based on various parameters such as director, genre, stars involved, etc. IMDb stands as a goldmine of such data, offering intricate details of almost every movie ever made.\n",
    "\n",
    "**Task**\n",
    "\n",
    "Your task is to create a Python script using `BeautifulSoup` and `pandas` to scrape IMDb movie data based on user ratings and release dates. This script should be able to filter movies with ratings above a certain threshold and within a specified date range.\n",
    "\n",
    "**Expected Outcome**\n",
    "\n",
    "- A function named `scrape_imdb` that takes four parameters: `title_type`,`user_rating`, `start_date`, and `end_date`.\n",
    "- The function should return a DataFrame with the following columns:\n",
    "  - **Movie Nr**: The number representing the movie’s position in the list.\n",
    "  - **Title**: The title of the movie.\n",
    "  - **Year**: The year the movie was released.\n",
    "  - **Rating**: The IMDb rating of the movie.\n",
    "  - **Runtime (min)**: The duration of the movie in minutes.\n",
    "  - **Genre**: The genre of the movie.\n",
    "  - **Description**: A brief description of the movie.\n",
    "  - **Director**: The director of the movie.\n",
    "  - **Stars**: The main stars of the movie.\n",
    "  - **Votes**: The number of votes the movie received.\n",
    "  - **Gross ($M)**: The gross earnings of the movie in millions of USD.\n",
    "\n",
    "You will execute this script to scrape data for movies with the Title Type `Feature Film` that have a user rating of `7.5 and above` and were released between `January 1, 1990, and December 31, 1992`.\n",
    "\n",
    "Remember to experiment with different title types, dates and ratings to ensure your code is versatile and can handle various searches effectively!\n",
    "\n",
    "**Resources**\n",
    "\n",
    "- [Beautiful Soup Documentation](https://www.crummy.com/software/BeautifulSoup/bs4/doc/)\n",
    "- [Pandas Documentation](https://pandas.pydata.org/pandas-docs/stable/index.html)\n",
    "- [IMDb Advanced Search](https://www.imdb.com/search/title/)\n"
   ]
  },
  {
   "cell_type": "markdown",
   "id": "3519921d-5890-445b-9a33-934ed8ee378c",
   "metadata": {
    "id": "3519921d-5890-445b-9a33-934ed8ee378c"
   },
   "source": [
    "**Hint**\n",
    "\n",
    "Your first mission is to familiarize yourself with the IMDb advanced search page. Head over to [IMDb advanced search](https://www.imdb.com/search/title/) and input the following parameters, keeping all other fields to their default values or blank:\n",
    "\n",
    "- **Title Type**: Feature film\n",
    "- **Release date**: From 1990 to 1992 (Note: You don't need to specify the day and month)\n",
    "- **User Rating**: 7.5 to -\n",
    "\n",
    "Upon searching, you'll land on a page showcasing a list of movies, each displaying vital details such as the title, release year, and crew information. Your task is to scrape this treasure trove of data.\n",
    "\n",
    "Carefully examine the resulting URL and construct your own URL to include all the necessary parameters for filtering the movies."
   ]
  },
  {
   "cell_type": "markdown",
   "id": "25a83a0d-a742-49f6-985e-e27887cbf922",
   "metadata": {
    "id": "25a83a0d-a742-49f6-985e-e27887cbf922"
   },
   "source": [
    "\n",
    "---\n",
    "\n",
    "**Best of luck! Immerse yourself in the world of movies and may the data be with you!**"
   ]
  },
  {
   "cell_type": "markdown",
   "id": "7b75cf0d-9afa-4eec-a9e2-befeac68b2a0",
   "metadata": {
    "id": "7b75cf0d-9afa-4eec-a9e2-befeac68b2a0"
   },
   "source": [
    "**Important note**:\n",
    "\n",
    "In the fast-changing online world, websites often get updates and make changes. When you try this lab, the IMDb website might be different from what we expect.\n",
    "\n",
    "If you run into problems because of these changes, like new rules or things that stop you from getting data, don't worry! Instead, get creative.\n",
    "\n",
    "You can choose another website that interests you and is good for scraping data. Websites like Wikipedia or The New York Times are good options. The main goal is still the same: get useful data and learn how to scrape it from a website that you find interesting. It's a chance to practice your web scraping skills and explore a source of information you like."
   ]
  },
  {
   "cell_type": "code",
   "execution_count": null,
   "id": "40359eee-9cd7-4884-bfa4-83344c222305",
   "metadata": {
    "id": "40359eee-9cd7-4884-bfa4-83344c222305"
   },
   "outputs": [],
   "source": [
    "# Import BeautifulSoup, requests and pandas:\n",
    "\n",
    "from bs4 import BeautifulSoup\n",
    "import requests\n",
    "import pandas as pd\n",
    "import re\n",
    "from bs4 import BeautifulSoup"
   ]
  },
  {
   "cell_type": "code",
   "execution_count": null,
   "id": "7802e9b9",
   "metadata": {},
   "outputs": [],
   "source": [
    "url = 'https://www.imdb.com/list/ls025598828/'\n",
    "res = requests.get(url)\n",
    "print(res.status_code)"
   ]
  },
  {
   "cell_type": "code",
   "execution_count": null,
   "id": "f256db11",
   "metadata": {},
   "outputs": [],
   "source": [
    "soup = BeautifulSoup(res.content, \"html.parser\")\n",
    "soup"
   ]
  },
  {
   "cell_type": "code",
   "execution_count": null,
   "id": "652ba846",
   "metadata": {
    "scrolled": true
   },
   "outputs": [],
   "source": [
    "print(soup.prettify())"
   ]
  },
  {
   "cell_type": "code",
   "execution_count": null,
   "id": "70277dcd",
   "metadata": {
    "scrolled": true
   },
   "outputs": [],
   "source": [
    "# 1 Create list movie_num\n",
    "\n",
    "list_movie_num = soup.find_all('span', {'class':\"lister-item-index unbold text-primary\"})\n",
    "list_movie_num"
   ]
  },
  {
   "cell_type": "code",
   "execution_count": null,
   "id": "e8838c9b",
   "metadata": {},
   "outputs": [],
   "source": [
    "# list movie to df:\n",
    "\n",
    "movie_num = [tag.get_text() for tag in list_movie_num]\n",
    "\n",
    "# Crear el DataFrame\n",
    "df_movie_num = pd.DataFrame(movie_num, columns=['Movie Number'])\n"
   ]
  },
  {
   "cell_type": "code",
   "execution_count": null,
   "id": "8e58ccf6",
   "metadata": {
    "scrolled": false
   },
   "outputs": [],
   "source": [
    "# 2 Create list title\n",
    "\n",
    "list_title = soup.find_all('h3', {'class':\"lister-item-header\"})\n",
    "list_title"
   ]
  },
  {
   "cell_type": "code",
   "execution_count": null,
   "id": "b063eb94",
   "metadata": {
    "scrolled": true
   },
   "outputs": [],
   "source": [
    "# Clean title tags\n",
    "caja = soup.find_all('h3',{'class':\"lister-item-header\"})\n",
    "caja[0]"
   ]
  },
  {
   "cell_type": "code",
   "execution_count": null,
   "id": "832e0db9",
   "metadata": {},
   "outputs": [],
   "source": [
    "# Create title list\n",
    "\n",
    "titles = []\n",
    "for i in range(len(caja)):\n",
    "    title = caja[i].find_all('a')[0].text\n",
    "    titles.append(title)\n",
    "    \n",
    "titles"
   ]
  },
  {
   "cell_type": "code",
   "execution_count": null,
   "id": "5885911c",
   "metadata": {},
   "outputs": [],
   "source": [
    "# Create title df\n",
    "\n",
    "df_title = pd.DataFrame(titles, columns=['Title'])"
   ]
  },
  {
   "cell_type": "code",
   "execution_count": null,
   "id": "bdb579d1",
   "metadata": {},
   "outputs": [],
   "source": [
    "df_title"
   ]
  },
  {
   "cell_type": "code",
   "execution_count": null,
   "id": "b5279957",
   "metadata": {
    "scrolled": true
   },
   "outputs": [],
   "source": [
    "# Create year list\n",
    "\n",
    "list_year = soup.find_all('span', {'class':\"lister-item-year text-muted unbold\"})\n",
    "list_year"
   ]
  },
  {
   "cell_type": "code",
   "execution_count": null,
   "id": "8e816f98",
   "metadata": {},
   "outputs": [],
   "source": [
    "# Obtain the years of each label <span>\n",
    "years = [tag.get_text() for tag in list_year]\n",
    "\n",
    "# Create DataFrame\n",
    "df_year = pd.DataFrame(years, columns=['Year'])"
   ]
  },
  {
   "cell_type": "code",
   "execution_count": null,
   "id": "830fd783",
   "metadata": {},
   "outputs": [],
   "source": [
    "# Clean column year\n",
    "\n",
    "def clean_year(value):\n",
    "    match = re.search(r'\\((\\d{4})\\)', value)\n",
    "    if match:\n",
    "        return int(match.group(1))\n",
    "    else:\n",
    "        return None "
   ]
  },
  {
   "cell_type": "code",
   "execution_count": null,
   "id": "6d9d6fa9",
   "metadata": {},
   "outputs": [],
   "source": [
    "# Aply clean function to the column 'Year'\n",
    "\n",
    "df_year['Year'] = df_year['Year'].apply(clean_year)"
   ]
  },
  {
   "cell_type": "code",
   "execution_count": null,
   "id": "0ad03d03",
   "metadata": {},
   "outputs": [],
   "source": [
    "df_year"
   ]
  },
  {
   "cell_type": "code",
   "execution_count": null,
   "id": "14ccaa03",
   "metadata": {},
   "outputs": [],
   "source": [
    "#Create rating list\n",
    "\n",
    "list_rating = soup.find_all('span', {'class':\"ipl-rating-star__rating\"})\n",
    "list_rating"
   ]
  },
  {
   "cell_type": "code",
   "execution_count": null,
   "id": "ce638b1d",
   "metadata": {},
   "outputs": [],
   "source": [
    "# Clean values \"Rate\"\n",
    "numeric_values = []\n",
    "\n",
    "for tag in list_rating:\n",
    "    text = tag.get_text()\n",
    "    \n",
    "    # Encontrar el valor numérico\n",
    "    match = re.search(r'\\d+\\.\\d+', text)  # Busca un patrón de número decimal\n",
    "    \n",
    "    # Si se encuentra un valor numérico, agregarlo a la lista\n",
    "    if match:\n",
    "        numeric_value = float(match.group())  # Convertir el valor a tipo float\n",
    "        numeric_values.append(numeric_value)\n",
    "\n",
    "# Crear un DataFrame con la lista de valores numéricos\n",
    "df_rating = pd.DataFrame(numeric_values, columns=['Rating'])\n"
   ]
  },
  {
   "cell_type": "code",
   "execution_count": null,
   "id": "c7d5db9a",
   "metadata": {},
   "outputs": [],
   "source": [
    "df_rating"
   ]
  },
  {
   "cell_type": "code",
   "execution_count": null,
   "id": "14466e4b",
   "metadata": {
    "scrolled": true
   },
   "outputs": [],
   "source": [
    "# Create runtime list\n",
    "\n",
    "list_runtime = soup.find_all('span', {'class':\"runtime\"})\n",
    "list_runtime"
   ]
  },
  {
   "cell_type": "code",
   "execution_count": null,
   "id": "4ac34bf3",
   "metadata": {},
   "outputs": [],
   "source": [
    "# Get \"runtime\" of each tag <span>\n",
    "runtime = [tag.get_text() for tag in list_runtime]\n",
    "\n",
    "# Create  DataFrame\n",
    "df_runtime = pd.DataFrame(runtime, columns=['Runtime'])"
   ]
  },
  {
   "cell_type": "code",
   "execution_count": null,
   "id": "1c4483ed",
   "metadata": {},
   "outputs": [],
   "source": [
    "# Create genre list:\n",
    "\n",
    "list_genre = soup.find_all('span', {'class':\"genre\"})\n",
    "list_genre"
   ]
  },
  {
   "cell_type": "code",
   "execution_count": null,
   "id": "5de7ecc0",
   "metadata": {},
   "outputs": [],
   "source": [
    "# Get \"genre\" of each tag <span>\n",
    "genre = [tag.get_text() for tag in list_genre]\n",
    "\n",
    "# Create DataFrame\n",
    "df_genre = pd.DataFrame(genre, columns=['Genre'])"
   ]
  },
  {
   "cell_type": "code",
   "execution_count": null,
   "id": "762ec64f",
   "metadata": {},
   "outputs": [],
   "source": [
    "# Filter the \"genre\" rows where the column value starts with '\\n'\n",
    "df_genre['Genre'] = df_genre['Genre'].str.replace(r'^\\n', '')"
   ]
  },
  {
   "cell_type": "code",
   "execution_count": null,
   "id": "07f80879",
   "metadata": {},
   "outputs": [],
   "source": [
    "# Create \"description\" list\n",
    "\n",
    "list_description = soup.find_all('p', class_=\"\")\n",
    "list_description"
   ]
  },
  {
   "cell_type": "code",
   "execution_count": null,
   "id": "acbb8931",
   "metadata": {},
   "outputs": [],
   "source": [
    "# Create movie_data\n",
    "list_description = []\n",
    "movie_data = soup.findAll('div', attrs={'class': 'lister-item mode-detail'})\n",
    "\n",
    "# Iterate through movie_data to append descriptions\n",
    "for movie in movie_data:\n",
    "    \n",
    "    description = movie.find_all('p', class_ = '' )[0].text.replace('\\n','')\n",
    "    list_description.append(description)\n",
    "    \n",
    "     \n",
    "list_description"
   ]
  },
  {
   "cell_type": "code",
   "execution_count": null,
   "id": "1347c089",
   "metadata": {},
   "outputs": [],
   "source": [
    "# Create df description\n",
    "\n",
    "df_description = pd.DataFrame(list_description, columns=['Description'])"
   ]
  },
  {
   "cell_type": "code",
   "execution_count": null,
   "id": "3819c2a9",
   "metadata": {},
   "outputs": [],
   "source": [
    "df_description.head()"
   ]
  },
  {
   "cell_type": "code",
   "execution_count": null,
   "id": "c4a081bd",
   "metadata": {},
   "outputs": [],
   "source": [
    "elements = soup.find_all('a', href=True)  # Encontrar todos los elementos <a> con atributo href\n",
    "list_director = [element for element in elements if '/name/' in element['href']]\n",
    "\n",
    "# Imprimir los elementos encontrados\n",
    "for element in list_director:\n",
    "    print(element)"
   ]
  },
  {
   "cell_type": "code",
   "execution_count": null,
   "id": "883af8d9",
   "metadata": {
    "scrolled": true
   },
   "outputs": [],
   "source": [
    "# Create director list:\n",
    "\n",
    "list_director = [element.text for element in list_director]"
   ]
  },
  {
   "cell_type": "code",
   "execution_count": null,
   "id": "cf1f9700",
   "metadata": {},
   "outputs": [],
   "source": [
    "# Crear director df\n",
    "\n",
    "df_director = pd.DataFrame({'Director': list_director})"
   ]
  },
  {
   "cell_type": "code",
   "execution_count": null,
   "id": "05a02c1d",
   "metadata": {
    "scrolled": true
   },
   "outputs": [],
   "source": [
    "df_director"
   ]
  },
  {
   "cell_type": "code",
   "execution_count": null,
   "id": "332f531a",
   "metadata": {},
   "outputs": [],
   "source": [
    "elements = soup.find_all('a', href=True)  # Encontrar todos los elementos <a> con atributo href\n",
    "list_stars = [element for element in elements if '/name/' in element['href']]\n",
    "\n",
    "# Imprimir los elementos encontrados\n",
    "for element in list_stars:\n",
    "    print(element)"
   ]
  },
  {
   "cell_type": "code",
   "execution_count": null,
   "id": "877bed3a",
   "metadata": {
    "scrolled": true
   },
   "outputs": [],
   "source": [
    "# Create stars list:\n",
    "\n",
    "list_stars = [element.text for element in list_stars]"
   ]
  },
  {
   "cell_type": "code",
   "execution_count": null,
   "id": "11544555",
   "metadata": {},
   "outputs": [],
   "source": [
    "# Create df stars\n",
    "\n",
    "df_stars = pd.DataFrame({'Stars': list_stars})"
   ]
  },
  {
   "cell_type": "code",
   "execution_count": null,
   "id": "2c8270c0",
   "metadata": {
    "scrolled": true
   },
   "outputs": [],
   "source": [
    "df_stars"
   ]
  },
  {
   "cell_type": "code",
   "execution_count": null,
   "id": "a63fb746",
   "metadata": {},
   "outputs": [],
   "source": [
    "votes = soup.find_all('span', {'name': 'nv', 'data-value': True})\n",
    "votes\n",
    "\n",
    "# Extracts the numeric values of the 'data-value' attribute of each span found.\n",
    "for span in votes:\n",
    "    numeric_value = span['data-value']\n",
    "    print(numeric_value)"
   ]
  },
  {
   "cell_type": "code",
   "execution_count": null,
   "id": "eb6b5f19",
   "metadata": {},
   "outputs": [],
   "source": [
    "# Extracts numeric values without commas:\n",
    "\n",
    "# Lista para almacenar los valores numéricos sin comas\n",
    "numeric_values = []\n",
    "\n",
    "# List for storing numeric values without commas\n",
    "pattern = re.compile(r'^\\d+$')\n",
    "\n",
    "# Iterate on the spans found\n",
    "for span in votes:\n",
    "    # Get the value of the attribute 'data-value'.\n",
    "    data_value = span['data-value']\n",
    "    # Check if the value is a number without commas using the regular expression\n",
    "    if pattern.match(data_value):\n",
    "        # Add the value to the list\n",
    "        numeric_values.append(data_value)"
   ]
  },
  {
   "cell_type": "code",
   "execution_count": null,
   "id": "307b529c",
   "metadata": {},
   "outputs": [],
   "source": [
    "# Create df votes:\n",
    "\n",
    "df_votes = pd.DataFrame({'Votes': numeric_values})"
   ]
  },
  {
   "cell_type": "code",
   "execution_count": null,
   "id": "e6922c4f",
   "metadata": {},
   "outputs": [],
   "source": [
    "df_votes"
   ]
  },
  {
   "cell_type": "code",
   "execution_count": null,
   "id": "870d0996",
   "metadata": {},
   "outputs": [],
   "source": [
    "\n",
    "\n",
    "gross = soup.find_all('span', {'name': 'nv', 'data-value': True})\n",
    "gross\n",
    "\n",
    "# Extrae los valores numéricos del atributo 'data-value' de cada span encontrado\n",
    "for span in gross:\n",
    "    numeric_value = span['data-value']\n",
    "    print(numeric_value)"
   ]
  },
  {
   "cell_type": "code",
   "execution_count": null,
   "id": "fb79cb58",
   "metadata": {},
   "outputs": [],
   "source": [
    "# Extracts numeric values with commas:\n",
    "\n",
    "numeric_values_with_commas = []\n",
    "\n",
    "# to find numbers with commas\n",
    "pattern = re.compile(r'^\\d{1,3}(,\\d{3})*(\\.\\d+)?$')\n",
    "\n",
    "# Iterar sobre los spans encontrados\n",
    "for span in gross:\n",
    "    # Get the value of the attribute 'data-value'.\n",
    "    data_value = span['data-value']\n",
    "    # Check if the value is a number with commas \n",
    "    if pattern.match(data_value):\n",
    "        # Add the value to the list\n",
    "        numeric_values_with_commas.append(data_value)"
   ]
  },
  {
   "cell_type": "code",
   "execution_count": null,
   "id": "7e2ba8c8",
   "metadata": {},
   "outputs": [],
   "source": [
    "df_gross = pd.DataFrame({'Gross($M)': numeric_values_with_commas})\n"
   ]
  },
  {
   "cell_type": "code",
   "execution_count": null,
   "id": "7440ec07",
   "metadata": {},
   "outputs": [],
   "source": [
    "df_gross"
   ]
  },
  {
   "cell_type": "code",
   "execution_count": null,
   "id": "52e64c0a",
   "metadata": {},
   "outputs": [],
   "source": [
    "# Create function scrape_imdb that return a DataFrame with the following columns::\n",
    "\n",
    "def scrape_imdb(title_type, user_rating, start_date, end_date):\n",
    "    \n",
    "    # Create a list with the DataFrames\n",
    "    scrape_results = [df_movie_num, df_title, df_year, df_rating, df_runtime, df_genre, df_description, df_director, df_stars, df_votes, df_gross]\n",
    "\n",
    "    # Concatenate DataFrames in one\n",
    "    merged_imdb_df = pd.concat(scrape_results, axis=1)\n",
    "    \n",
    "    # Convert 'Year' column to numeric type\n",
    "    merged_imdb_df['Year'] = pd.to_numeric(merged_imdb_df['Year'], errors='coerce')\n",
    "    \n",
    "    # Convert 'Rating' column to numeric type\n",
    "    merged_imdb_df['Rating'] = pd.to_numeric(merged_imdb_df['Rating'], errors='coerce')\n",
    "    \n",
    "    # Convert 'Runtime' column to numeric type\n",
    "    merged_imdb_df['Runtime'] = pd.to_numeric(merged_imdb_df['Runtime'].str.replace(' min', ''), errors='coerce')\n",
    "    \n",
    "    # Convert 'Gross' column to numeric type (remove commas and convert to float)\n",
    "    merged_imdb_df['Gross($M)'] = merged_imdb_df['Gross($M)'].str.replace(',', '').astype(float)\n",
    "    \n",
    "    return merged_imdb_df\n"
   ]
  },
  {
   "cell_type": "code",
   "execution_count": null,
   "id": "c57dd532",
   "metadata": {},
   "outputs": [],
   "source": [
    "# Task: Calling function scrape_imdb that return a DataFrame with the following columns:\n",
    "scraped_results_df = scrape_imdb(title_type=None, user_rating=None, start_date=None, end_date=None)\n",
    "\n",
    "\n",
    "# Display the resulting dataframe:\n",
    "scraped_results_df"
   ]
  },
  {
   "cell_type": "code",
   "execution_count": null,
   "id": "e9f35a64",
   "metadata": {},
   "outputs": [],
   "source": [
    "# Task: Calling function scrape_imdb that return a DataFrame with the following columns:\n",
    "scraped_results_df = scrape_imdb(title_type=\"Feature Film\", user_rating=7.5, start_date=1990, end_date=1992)\n",
    "\n",
    "\n",
    "# Display the resulting dataframe:\n",
    "scraped_results_df"
   ]
  },
  {
   "cell_type": "markdown",
   "id": "9ab1217a-df9d-4a2b-a32c-2c5f1eecd52a",
   "metadata": {
    "id": "9ab1217a-df9d-4a2b-a32c-2c5f1eecd52a"
   },
   "source": [
    "## BONUS\n",
    "\n",
    "The search results span multiple pages, housing a total of 631 movies in our example with each page displaying 50 movies at most. To scrape data seamlessly from all pages, you'll need to dive deep into the structure of the URLs generated with each \"Next\" click.\n",
    "\n",
    "Take a close look at the following URLs:\n",
    "- First page:\n",
    "  ```\n",
    "  https://www.imdb.com/search/title/?title_type=feature&release_date=1990-01-01,1992-12-31&user_rating=7.5,\n",
    "  ```\n",
    "- Second page:\n",
    "  ```\n",
    "  https://www.imdb.com/search/title/?title_type=feature&release_date=1990-01-01,1992-12-31&user_rating=7.5,&start=51&ref_=adv_nxt\n",
    "  ```\n",
    "- Third page:\n",
    "  ```\n",
    "  https://www.imdb.com/search/title/?title_type=feature&release_date=1990-01-01,1992-12-31&user_rating=7.5,&start=101&ref_=adv_nxt\n",
    "  ```\n",
    "\n",
    "You should notice a pattern. There is a `start` parameter incrementing by 50 with each page, paired with a constant `ref_` parameter holding the value \"adv_nxt\".\n",
    "\n",
    "Modify your script so it's capable of iterating over all available pages to fetch data on all the 631 movies (631 is the total number of movies in the proposed example)."
   ]
  },
  {
   "cell_type": "code",
   "execution_count": null,
   "id": "21ac4fc0-a12b-4a00-9266-2020166f0dea",
   "metadata": {
    "id": "21ac4fc0-a12b-4a00-9266-2020166f0dea"
   },
   "outputs": [],
   "source": [
    "# Your solution goes here\n",
    "\n"
   ]
  }
 ],
 "metadata": {
  "colab": {
   "provenance": []
  },
  "kernelspec": {
   "display_name": "Python 3 (ipykernel)",
   "language": "python",
   "name": "python3"
  },
  "language_info": {
   "codemirror_mode": {
    "name": "ipython",
    "version": 3
   },
   "file_extension": ".py",
   "mimetype": "text/x-python",
   "name": "python",
   "nbconvert_exporter": "python",
   "pygments_lexer": "ipython3",
   "version": "3.9.7"
  }
 },
 "nbformat": 4,
 "nbformat_minor": 5
}
